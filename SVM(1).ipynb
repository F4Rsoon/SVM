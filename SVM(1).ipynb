{
  "nbformat": 4,
  "nbformat_minor": 0,
  "metadata": {
    "colab": {
      "provenance": []
    },
    "kernelspec": {
      "name": "python3",
      "display_name": "Python 3"
    },
    "language_info": {
      "name": "python"
    }
  },
  "cells": [
    {
      "cell_type": "code",
      "execution_count": 1,
      "metadata": {
        "id": "Sb0T8d7sAhB8"
      },
      "outputs": [],
      "source": [
        "#1\n",
        "import numpy as np\n",
        "\n",
        "class ScratchSVMClassifier():\n",
        "    def __init__(self, num_iter, lr, kernel='linear', threshold=1e-5, verbose=False,\n",
        "                 gamma=1, coef0=0, degree=3):\n",
        "        self.iter = num_iter\n",
        "        self.lr = lr\n",
        "        self.kernel = kernel\n",
        "        self.threshold = threshold\n",
        "        self.verbose = verbose\n",
        "\n",
        "\n",
        "        self.gamma = gamma\n",
        "        self.coef0 = coef0\n",
        "        self.degree = degree\n",
        "\n",
        "    def _kernel_function(self, x1, x2):\n",
        "\n",
        "        if self.kernel == 'linear':\n",
        "            return np.dot(x1, x2.T)\n",
        "        elif self.kernel == 'polynomial':\n",
        "            return (self.gamma * np.dot(x1, x2.T) + self.coef0) ** self.degree\n",
        "        else:\n",
        "            raise ValueError(f\"Unknown kernel: {self.kernel}\")"
      ]
    },
    {
      "cell_type": "code",
      "source": [
        "    def _update_lagrange_multipliers(self, X, y, lam):\n",
        "\n",
        "        m = X.shape[0]\n",
        "        for i in range(m):\n",
        "\n",
        "            kernel_values = self._kernel_function(X[i], X)\n",
        "            summation = np.sum(lam * y * y[i] * kernel_values)\n",
        "            lam_new = lam[i] + self.lr * (1 - summation)\n",
        "            lam[i] = max(0, lam_new)\n",
        "        return lam"
      ],
      "metadata": {
        "id": "nNHSn0gsBnd_"
      },
      "execution_count": 2,
      "outputs": []
    },
    {
      "cell_type": "code",
      "source": [
        "    def _select_support_vectors(self, X, y, lam):\n",
        "\n",
        "        support_vector_indices = np.where(lam > self.threshold)[0]\n",
        "        self.n_support_vectors = len(support_vector_indices)\n",
        "        self.index_support_vectors = support_vector_indices\n",
        "        self.lam_sv = lam[support_vector_indices]\n",
        "        self.X_sv = X[support_vector_indices]\n",
        "        self.y_sv = y[support_vector_indices]"
      ],
      "metadata": {
        "id": "0Y0isCIJBo7y"
      },
      "execution_count": 3,
      "outputs": []
    },
    {
      "cell_type": "code",
      "source": [
        "    def fit(self, X, y, X_val=None, y_val=None):\n",
        "        m, n = X.shape\n",
        "\n",
        "        lam = np.zeros(m)\n",
        "\n",
        "        for it in range(self.iter):\n",
        "            lam = self._update_lagrange_multipliers(X, y, lam)\n",
        "            self._select_support_vectors(X, y, lam)\n",
        "\n",
        "            if self.verbose and (it % 10 == 0 or it == self.iter - 1):\n",
        "                print(f\"Iteration {it+1}/{self.iter}, support vectors: {self.n_support_vectors}\")"
      ],
      "metadata": {
        "id": "6BESM0nSBwvR"
      },
      "execution_count": 4,
      "outputs": []
    },
    {
      "cell_type": "code",
      "source": [
        "    def predict(self, X):\n",
        "\n",
        "        m = X.shape[0]\n",
        "        y_pred = np.zeros(m)\n",
        "\n",
        "        for i in range(m):\n",
        "            kernel_vals = self._kernel_function(X[i], self.X_sv)\n",
        "            decision = np.sum(self.lam_sv * self.y_sv * kernel_vals)\n",
        "            y_pred[i] = 1 if decision >= 0 else -1\n",
        "\n",
        "        return y_pred.astype(int)"
      ],
      "metadata": {
        "id": "UOmTfektBydy"
      },
      "execution_count": 5,
      "outputs": []
    },
    {
      "cell_type": "code",
      "source": [],
      "metadata": {
        "id": "8xwTaA3BCtUT"
      },
      "execution_count": 5,
      "outputs": []
    }
  ]
}